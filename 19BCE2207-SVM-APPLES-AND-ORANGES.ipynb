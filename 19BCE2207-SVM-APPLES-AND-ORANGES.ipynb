{
 "cells": [
  {
   "cell_type": "code",
   "execution_count": 3,
   "metadata": {},
   "outputs": [],
   "source": [
    "from sklearn import svm\n"
   ]
  },
  {
   "cell_type": "code",
   "execution_count": 6,
   "metadata": {},
   "outputs": [],
   "source": [
    "import pandas as pd\n",
    "data = pd.read_csv(\"/home/matlab/Downloads/apples_and_oranges.csv\")"
   ]
  },
  {
   "cell_type": "code",
   "execution_count": 7,
   "metadata": {},
   "outputs": [
    {
     "name": "stdout",
     "output_type": "stream",
     "text": [
      "    Weight  Size   Class\n",
      "0       69  4.39  orange\n",
      "1       69  4.21  orange\n",
      "2       65  4.09  orange\n",
      "3       72  5.85   apple\n",
      "4       67  4.70  orange\n",
      "5       73  5.68   apple\n",
      "6       70  5.56   apple\n",
      "7       75  5.11   apple\n",
      "8       74  5.36   apple\n",
      "9       65  4.27  orange\n",
      "10      73  5.79   apple\n",
      "11      70  5.47   apple\n",
      "12      74  5.53   apple\n",
      "13      68  4.47  orange\n",
      "14      74  5.22   apple\n",
      "15      65  4.48  orange\n",
      "16      69  4.66  orange\n",
      "17      75  5.25   apple\n",
      "18      67  4.18  orange\n",
      "19      74  5.50   apple\n",
      "20      66  4.13  orange\n",
      "21      70  4.83  orange\n",
      "22      69  4.61  orange\n",
      "23      68  4.08  orange\n",
      "24      67  4.25  orange\n",
      "25      71  5.35   apple\n",
      "26      67  4.01  orange\n",
      "27      70  4.22  orange\n",
      "28      74  5.25   apple\n",
      "29      71  5.26   apple\n",
      "30      73  5.78   apple\n",
      "31      66  4.68  orange\n",
      "32      72  5.72   apple\n",
      "33      73  5.17   apple\n",
      "34      68  4.83  orange\n",
      "35      69  4.11  orange\n",
      "36      69  4.76  orange\n",
      "37      74  5.48   apple\n",
      "38      70  5.59   apple\n",
      "39      73  5.03   apple\n"
     ]
    }
   ],
   "source": [
    "print(data)"
   ]
  },
  {
   "cell_type": "code",
   "execution_count": 8,
   "metadata": {},
   "outputs": [],
   "source": [
    "from sklearn.model_selection import train_test_split\n",
    "training_set, test_set = train_test_split(data, test_size = 0.2)"
   ]
  },
  {
   "cell_type": "code",
   "execution_count": 9,
   "metadata": {},
   "outputs": [],
   "source": [
    "X_train = training_set.iloc[:,0:2].values\n",
    "Y_train = training_set.iloc[:,2].values\n",
    "X_test = test_set.iloc[:,0:2].values\n",
    "Y_test = test_set.iloc[:,2].values"
   ]
  },
  {
   "cell_type": "code",
   "execution_count": 10,
   "metadata": {},
   "outputs": [
    {
     "data": {
      "text/plain": [
       "SVC(C=1.0, cache_size=200, class_weight=None, coef0=0.0,\n",
       "  decision_function_shape='ovr', degree=3, gamma='auto', kernel='rbf',\n",
       "  max_iter=-1, probability=False, random_state=None, shrinking=True,\n",
       "  tol=0.001, verbose=False)"
      ]
     },
     "execution_count": 10,
     "metadata": {},
     "output_type": "execute_result"
    }
   ],
   "source": [
    "from sklearn.svm import SVC\n",
    "classifier = SVC()\n",
    "classifier.fit(X_train,Y_train)"
   ]
  },
  {
   "cell_type": "code",
   "execution_count": 11,
   "metadata": {},
   "outputs": [],
   "source": [
    "Y_pred = classifier.predict(X_test)"
   ]
  },
  {
   "cell_type": "code",
   "execution_count": 12,
   "metadata": {},
   "outputs": [
    {
     "name": "stdout",
     "output_type": "stream",
     "text": [
      "['apple' 'orange' 'orange' 'apple' 'orange' 'orange' 'orange' 'apple']\n"
     ]
    }
   ],
   "source": [
    "print(Y_pred)"
   ]
  },
  {
   "cell_type": "code",
   "execution_count": 15,
   "metadata": {},
   "outputs": [
    {
     "name": "stdout",
     "output_type": "stream",
     "text": [
      "30     apple\n",
      "31    orange\n",
      "2     orange\n",
      "38     apple\n",
      "22    orange\n",
      "18    orange\n",
      "15    orange\n",
      "8      apple\n",
      "Name: Class, dtype: object\n"
     ]
    }
   ],
   "source": [
    "print(test_set[\"Class\"])"
   ]
  },
  {
   "cell_type": "code",
   "execution_count": 14,
   "metadata": {},
   "outputs": [
    {
     "name": "stdout",
     "output_type": "stream",
     "text": [
      "\n",
      "Accuracy Of SVM For The Given Dataset :  1.0\n"
     ]
    }
   ],
   "source": [
    "from sklearn.metrics import confusion_matrix\n",
    "cm = confusion_matrix(Y_test,Y_pred)\n",
    "accuracy = float(cm.diagonal().sum())/len(Y_test)\n",
    "print(\"\\nAccuracy Of SVM For The Given Dataset : \", accuracy)"
   ]
  }
 ],
 "metadata": {
  "kernelspec": {
   "display_name": "Python 3",
   "language": "python",
   "name": "python3"
  },
  "language_info": {
   "codemirror_mode": {
    "name": "ipython",
    "version": 3
   },
   "file_extension": ".py",
   "mimetype": "text/x-python",
   "name": "python",
   "nbconvert_exporter": "python",
   "pygments_lexer": "ipython3",
   "version": "3.7.0"
  }
 },
 "nbformat": 4,
 "nbformat_minor": 2
}
