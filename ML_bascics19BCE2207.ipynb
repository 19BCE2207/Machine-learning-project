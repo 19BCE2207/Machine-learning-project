{
  "nbformat": 4,
  "nbformat_minor": 0,
  "metadata": {
    "colab": {
      "name": "ML basics.ipynb",
      "provenance": []
    },
    "kernelspec": {
      "name": "python3",
      "display_name": "Python 3"
    },
    "language_info": {
      "name": "python"
    }
  },
  "cells": [
    {
      "cell_type": "code",
      "execution_count": 9,
      "metadata": {
        "id": "t4-5x1BToZz1",
        "colab": {
          "base_uri": "https://localhost:8080/"
        },
        "outputId": "93baf45c-1fbe-4c03-d4e8-bc45e6ea788a"
      },
      "outputs": [
        {
          "output_type": "stream",
          "name": "stdout",
          "text": [
            "89.76923076923077\n"
          ]
        }
      ],
      "source": [
        "#19BCE2207\n",
        "import numpy\n",
        "from scipy import stats\n",
        "import matplotlib.pyplot as plt\n",
        "\n",
        "speed = [99,86,87,88,111,86,103,87,94,78,77,85,86]\n",
        "\n",
        "x = numpy.mean(speed)\n",
        "\n",
        "print(x)\n"
      ]
    },
    {
      "cell_type": "code",
      "source": [
        "#median\n",
        "x = numpy.median(speed)\n",
        "\n",
        "print(x)\n"
      ],
      "metadata": {
        "colab": {
          "base_uri": "https://localhost:8080/"
        },
        "id": "-G50M8CF5HGY",
        "outputId": "08d7e81e-6a77-4fa1-97fe-8f402d9556ab"
      },
      "execution_count": 2,
      "outputs": [
        {
          "output_type": "stream",
          "name": "stdout",
          "text": [
            "87.0\n"
          ]
        }
      ]
    },
    {
      "cell_type": "code",
      "source": [
        "x = stats.mode(speed)\n",
        "\n",
        "print(x)\n"
      ],
      "metadata": {
        "colab": {
          "base_uri": "https://localhost:8080/"
        },
        "id": "ot06ahD55Qw5",
        "outputId": "6d19ea4e-369e-47a0-c9e9-8b7807efb8a0"
      },
      "execution_count": 4,
      "outputs": [
        {
          "output_type": "stream",
          "name": "stdout",
          "text": [
            "ModeResult(mode=array([86]), count=array([3]))\n"
          ]
        }
      ]
    },
    {
      "cell_type": "code",
      "source": [
        "x = numpy.std(speed)\n",
        "\n",
        "print(x)\n"
      ],
      "metadata": {
        "colab": {
          "base_uri": "https://localhost:8080/"
        },
        "id": "pCYGm1I_5mJJ",
        "outputId": "9f6312aa-fd29-46f6-95da-8b9a38e25364"
      },
      "execution_count": 5,
      "outputs": [
        {
          "output_type": "stream",
          "name": "stdout",
          "text": [
            "9.258292301032677\n"
          ]
        }
      ]
    },
    {
      "cell_type": "code",
      "source": [
        "x = numpy.var(speed)\n",
        "\n",
        "print(x)\n"
      ],
      "metadata": {
        "colab": {
          "base_uri": "https://localhost:8080/"
        },
        "id": "Y_Ja68d05sqJ",
        "outputId": "f62f7414-1265-4945-fc5d-2b58ef478b81"
      },
      "execution_count": 6,
      "outputs": [
        {
          "output_type": "stream",
          "name": "stdout",
          "text": [
            "85.71597633136093\n"
          ]
        }
      ]
    },
    {
      "cell_type": "code",
      "source": [
        "import numpy\n",
        "\n",
        "ages = [5,31,43,48,50,41,7,11,15,39,80,82,32,2,8,6,25,36,27,61,31]\n",
        "\n",
        "x = numpy.percentile(ages, 75)\n",
        "\n",
        "print(x)\n"
      ],
      "metadata": {
        "colab": {
          "base_uri": "https://localhost:8080/"
        },
        "id": "l2rW49--53EY",
        "outputId": "f6d9c215-3bb8-4c6f-8111-fbb3a56c0924"
      },
      "execution_count": 7,
      "outputs": [
        {
          "output_type": "stream",
          "name": "stdout",
          "text": [
            "43.0\n"
          ]
        }
      ]
    },
    {
      "cell_type": "code",
      "source": [
        "x = numpy.random.uniform(0.0, 5.0, 250)\n",
        "\n",
        "print(x)\n"
      ],
      "metadata": {
        "colab": {
          "base_uri": "https://localhost:8080/"
        },
        "id": "mNQgeB_B544q",
        "outputId": "0f9e1f49-bbcc-470a-efc1-884c673dc141"
      },
      "execution_count": 8,
      "outputs": [
        {
          "output_type": "stream",
          "name": "stdout",
          "text": [
            "[3.17847327e+00 3.73882492e+00 1.02030430e+00 3.97804571e-01\n",
            " 3.76094724e+00 8.37915458e-01 2.47264178e+00 9.33581007e-01\n",
            " 8.23663438e-01 2.84069302e+00 2.02683536e+00 2.93294013e+00\n",
            " 4.77061714e+00 4.56007723e+00 4.52245715e+00 1.57727150e+00\n",
            " 6.62739313e-01 4.14471319e+00 2.07637105e-01 1.56363861e+00\n",
            " 1.28864070e+00 1.01729656e+00 4.05572415e+00 4.13392960e-01\n",
            " 1.57387696e+00 4.23752888e+00 9.08977432e-01 4.40668179e+00\n",
            " 2.77208713e+00 4.78162004e+00 3.41022503e+00 4.98060147e+00\n",
            " 1.46369976e+00 3.38603753e+00 3.92752569e+00 4.06149060e+00\n",
            " 4.01435324e+00 4.17140256e+00 3.91334573e+00 1.44941911e+00\n",
            " 3.56563258e+00 4.55703144e+00 5.65532245e-01 4.99630139e+00\n",
            " 4.12565799e+00 1.58720936e+00 3.48863564e+00 2.83752903e+00\n",
            " 5.22419136e-01 1.58021216e+00 1.61574504e+00 1.90544310e+00\n",
            " 1.03877572e+00 6.13257071e-01 6.86407688e-01 1.88590766e+00\n",
            " 2.23220139e-01 1.75327118e+00 1.32502489e+00 1.41541832e+00\n",
            " 4.19025082e+00 1.90182574e-01 2.04322636e+00 3.04746919e-01\n",
            " 1.07196238e+00 1.32606242e+00 1.79244593e+00 1.09161142e+00\n",
            " 4.78305550e-01 1.86950021e+00 2.31664310e+00 2.71927265e+00\n",
            " 1.35063758e+00 3.98832258e+00 4.19850204e+00 1.63204802e+00\n",
            " 9.35151149e-01 2.07894883e+00 7.87477297e-01 2.36114346e+00\n",
            " 2.53860814e-04 1.12633398e+00 2.52014663e+00 4.28774754e+00\n",
            " 3.81826215e+00 3.99322125e-01 1.76640556e+00 4.14761525e+00\n",
            " 4.60190726e+00 2.68507274e+00 2.42264915e+00 2.89875393e+00\n",
            " 4.42438213e-01 3.40335148e+00 1.05289469e+00 3.68056231e+00\n",
            " 4.87863493e+00 2.65454754e+00 8.84142823e-01 1.29174332e+00\n",
            " 4.38288469e+00 2.68437583e+00 4.61486827e+00 4.80743612e+00\n",
            " 7.37897463e-01 8.24789303e-01 7.32697896e-01 3.58678425e+00\n",
            " 7.15391011e-01 1.15833431e+00 1.51858745e+00 1.79825990e+00\n",
            " 2.54674857e+00 1.16295091e+00 4.09980923e+00 2.22247647e+00\n",
            " 3.85831738e+00 3.80295193e+00 2.66197071e+00 2.80975409e+00\n",
            " 8.61825291e-01 1.63803886e+00 2.85348163e+00 1.52131741e+00\n",
            " 3.58089365e+00 2.12315067e+00 4.58860676e+00 2.59313530e-01\n",
            " 2.82967792e+00 2.05065348e+00 4.35635637e+00 1.41127747e+00\n",
            " 1.39050117e+00 7.06595010e-01 4.27417716e+00 4.71400871e+00\n",
            " 1.52399839e+00 6.55334879e-01 4.90239917e-01 4.03872156e+00\n",
            " 5.11197272e-02 3.73038459e+00 1.75969965e+00 2.73035224e+00\n",
            " 3.38487280e+00 1.83852822e+00 2.71760405e+00 1.68530716e+00\n",
            " 2.55431673e+00 3.82925003e-01 1.23658084e+00 4.03550481e+00\n",
            " 3.27231796e+00 2.22567410e+00 3.23992892e+00 1.44996837e-01\n",
            " 2.23386673e+00 4.78301705e-01 2.51770909e-01 4.95418972e+00\n",
            " 3.25643719e+00 3.91975153e+00 5.51410567e-01 3.25228631e+00\n",
            " 1.52978013e+00 4.80329119e+00 2.50065580e+00 2.28754336e+00\n",
            " 1.04402731e+00 2.48759717e+00 3.39657867e+00 1.44163214e+00\n",
            " 1.59105428e+00 4.11373558e+00 2.78350187e+00 4.79840125e-01\n",
            " 3.59506400e+00 4.97372736e+00 2.10403387e+00 2.70546056e+00\n",
            " 1.59711589e+00 4.71868841e+00 4.81718367e+00 1.15790296e+00\n",
            " 2.46919817e+00 4.13514747e+00 1.99347376e+00 2.17954881e+00\n",
            " 2.90948983e+00 2.34828029e-02 1.32396757e+00 3.78259977e+00\n",
            " 1.60838256e-01 4.92076900e+00 4.91402190e+00 4.56602148e+00\n",
            " 2.13523180e+00 2.18525669e+00 2.99929386e-01 2.34898364e+00\n",
            " 1.62509641e+00 4.34831311e+00 2.16849185e+00 1.60294043e+00\n",
            " 3.84548139e+00 2.81700195e+00 6.32988812e-02 2.08699436e-01\n",
            " 4.64048170e-01 1.51087968e+00 2.96460582e+00 3.78806745e+00\n",
            " 2.22106602e-01 2.38775872e+00 1.75494853e+00 3.48030699e-02\n",
            " 3.92131857e+00 4.65125685e+00 3.77281147e+00 4.88333796e+00\n",
            " 3.10677025e+00 3.76748264e+00 4.89950811e+00 4.55526710e+00\n",
            " 2.80306547e+00 5.96711713e-01 5.09937452e-01 4.38939236e+00\n",
            " 8.97903597e-01 3.14299383e+00 2.05358945e+00 4.24348722e-01\n",
            " 2.99316980e-01 4.09601457e+00 3.02359128e-01 5.13311158e-01\n",
            " 3.71795404e+00 1.72148779e+00 3.55473856e+00 7.44035361e-01\n",
            " 2.86817303e+00 1.25127735e+00 3.92702383e+00 3.79564069e+00\n",
            " 1.65401306e+00 1.37687686e+00 1.38222898e+00 2.08758937e+00\n",
            " 1.65104298e+00 1.33559535e+00]\n"
          ]
        }
      ]
    },
    {
      "cell_type": "code",
      "source": [
        "x = numpy.random.uniform(0.0, 5.0, 250)\n",
        "\n",
        "plt.hist(x, 5)\n",
        "plt.show()\n"
      ],
      "metadata": {
        "colab": {
          "base_uri": "https://localhost:8080/",
          "height": 265
        },
        "id": "8pE4lhfl6S2s",
        "outputId": "64570d7d-4302-4e0b-8464-5583cd6cc6e5"
      },
      "execution_count": 10,
      "outputs": [
        {
          "output_type": "display_data",
          "data": {
            "image/png": "[encoded data removed]",
            "text/plain": [
              "<Figure size 432x288 with 1 Axes>"
            ]
          },
          "metadata": {
            "needs_background": "light"
          }
        }
      ]
    },
    {
      "cell_type": "code",
      "source": [
        "x = numpy.random.normal(5.0, 1.0, 100000)\n",
        "\n",
        "plt.hist(x, 100)\n",
        "plt.show()\n"
      ],
      "metadata": {
        "colab": {
          "base_uri": "https://localhost:8080/",
          "height": 265
        },
        "id": "p2XOIRHi6XPZ",
        "outputId": "110c8728-1049-475c-e580-708c3e293269"
      },
      "execution_count": 11,
      "outputs": [
        {
          "output_type": "display_data",
          "data": {
            "image/png": "[encoded data removed]",
            "text/plain": [
              "<Figure size 432x288 with 1 Axes>"
            ]
          },
          "metadata": {
            "needs_background": "light"
          }
        }
      ]
    },
    {
      "cell_type": "code",
      "source": [
        "x = [5,7,8,7,2,17,2,9,4,11,12,9,6]\n",
        "y = [99,86,87,88,111,86,103,87,94,78,77,85,86]\n",
        "\n",
        "plt.scatter(x, y)\n",
        "plt.show()\n"
      ],
      "metadata": {
        "colab": {
          "base_uri": "https://localhost:8080/",
          "height": 265
        },
        "id": "9GRO4zp86hnh",
        "outputId": "d1db68a0-9b27-4689-fd21-21a74b6acb77"
      },
      "execution_count": 12,
      "outputs": [
        {
          "output_type": "display_data",
          "data": {
            "image/png": "[encoded data removed]",
            "text/plain": [
              "<Figure size 432x288 with 1 Axes>"
            ]
          },
          "metadata": {
            "needs_background": "light"
          }
        }
      ]
    }
  ]
}