{
  "nbformat": 4,
  "nbformat_minor": 0,
  "metadata": {
    "colab": {
      "name": "19BCE2207-POLY.ipynb",
      "provenance": []
    },
    "kernelspec": {
      "name": "python3",
      "display_name": "Python 3"
    },
    "language_info": {
      "name": "python"
    }
  },
  "cells": [
    {
      "cell_type": "markdown",
      "source": [
        "19BCE2207-POLYNOMIAL REGRESSION-USER DEFINED"
      ],
      "metadata": {
        "id": "WrZkB-PIm-6Z"
      }
    },
    {
      "cell_type": "code",
      "source": [
        "import numpy as np\n",
        " \n",
        "import math\n",
        " \n",
        "import matplotlib.pyplot as plt\n",
        " "
      ],
      "metadata": {
        "id": "qHvqs0OvlQIZ"
      },
      "execution_count": 8,
      "outputs": []
    },
    {
      "cell_type": "code",
      "source": [
        "class PolynomialRegression() :\n",
        "     \n",
        "    def __init__( self, degree, learning_rate, iterations ) :\n",
        "         \n",
        "        self.degree = degree\n",
        "         \n",
        "        self.learning_rate = learning_rate\n",
        "         \n",
        "        self.iterations = iterations\n",
        "    def transform( self, X ) :\n",
        "         \n",
        "        \n",
        "         \n",
        "        X_transform = np.ones( ( self.m, 1 ) )\n",
        "         \n",
        "        j = 0\n",
        "     \n",
        "        for j in range( self.degree + 1 ) :\n",
        "             \n",
        "            if j != 0 :\n",
        "                 \n",
        "                x_pow = np.power( X, j )\n",
        "                 \n",
        "                \n",
        "                 \n",
        "                X_transform = np.append( X_transform, x_pow.reshape( -1, 1 ), axis = 1 )\n",
        " \n",
        "        return X_transform  \n",
        "    def normalize( self, X ) :\n",
        "         \n",
        "        X[:, 1:] = ( X[:, 1:] - np.mean( X[:, 1:], axis = 0 ) ) / np.std( X[:, 1:], axis = 0 )\n",
        "         \n",
        "        return X\n",
        "    \n",
        "    def fit( self, X, Y ) :\n",
        "         \n",
        "        self.X = X\n",
        "     \n",
        "        self.Y = Y\n",
        "     \n",
        "        self.m, self.n = self.X.shape\n",
        "     \n",
        "\n",
        "     \n",
        "        self.W = np.zeros( self.degree + 1 )\n",
        "         \n",
        "        X_transform = self.transform( self.X )\n",
        "         \n",
        "\n",
        "         \n",
        "        X_normalize = self.normalize( X_transform )\n",
        "                 \n",
        "        # gradient descent learning\n",
        "     \n",
        "        for i in range( self.iterations ) :\n",
        "             \n",
        "            h = self.predict( self.X )\n",
        "         \n",
        "            error = h - self.Y\n",
        "             \n",
        "            # update weights\n",
        "         \n",
        "            self.W = self.W - self.learning_rate * ( 1 / self.m ) * np.dot( X_normalize.T, error )\n",
        "         \n",
        "        return self     \n",
        "    def predict( self, X ) :\n",
        "      \n",
        "         \n",
        "        X_transform = self.transform( X )\n",
        "         \n",
        "        X_normalize = self.normalize( X_transform )\n",
        "         \n",
        "        return np.dot( X_transform, self.W )"
      ],
      "metadata": {
        "id": "CvLClW1tlRKU"
      },
      "execution_count": 28,
      "outputs": []
    },
    {
      "cell_type": "code",
      "source": [
        "def main() :   \n",
        "     \n",
        "    # Create dataset\n",
        "     \n",
        "    X = np.array( [ [1], [2], [3], [4], [5], [6], [7] ] )\n",
        "     \n",
        "    Y = np.array( [ 45000, 50000, 60000, 80000, 110000, 150000, 200000 ] )\n",
        "  \n",
        "    # model training\n",
        "     \n",
        "    model = PolynomialRegression( degree = 2, learning_rate = 0.01, iterations = 500 )\n",
        " \n",
        "    model.fit( X, Y )\n",
        "     \n",
        "    # Prediction on training set\n",
        " \n",
        "    Y_pred = model.predict( X )\n",
        "     \n",
        "    # Visualization\n",
        "     \n",
        "    plt.scatter( X, Y, color = 'blue' )\n",
        "     \n",
        "    plt.plot( X, Y_pred, color = 'orange' )\n",
        "     \n",
        "    plt.title( 'X vs Y' )\n",
        "     \n",
        "    plt.xlabel( 'X' )\n",
        "     \n",
        "    plt.ylabel( 'Y' )\n",
        "     \n",
        "    plt.show()\n",
        "if __name__ == \"__main__\" :\n",
        "     \n",
        "     main()"
      ],
      "metadata": {
        "colab": {
          "base_uri": "https://localhost:8080/",
          "height": 295
        },
        "id": "rNkmwyejlnEr",
        "outputId": "9f9034a3-9c7d-4396-bb3f-0295dbcf12cc"
      },
      "execution_count": 29,
      "outputs": [
        {
          "output_type": "display_data",
          "data": {
            "image/png": "[encoded data removed]",
            "text/plain": [
              "<Figure size 432x288 with 1 Axes>"
            ]
          },
          "metadata": {
            "needs_background": "light"
          }
        }
      ]
    }
  ]
}